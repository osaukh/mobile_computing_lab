{
 "cells": [
  {
   "cell_type": "markdown",
   "metadata": {},
   "source": [
    "# 2021-05-05 Progress Review\n",
    "\n",
    "<mark>To be updated!</mark>"
   ]
  },
  {
   "cell_type": "markdown",
   "metadata": {},
   "source": [
    "<div class=\"alert alert-block alert-success\">\n",
    "Participation in progress reviews is mandatory. The review will take place in the virtual classroom at 2pm.\n",
    "</div>\n",
    "\n",
    "## Where Are We?\n",
    "\n",
    "<img src=\"img/project_options3.png\" width=\"800\">\n",
    "\n",
    "### Option 1: Activity monitoring demo!\n",
    "* It's not easy to show the demo remotely! Please consider an option of making a video of a running demo OR sharing your smartphone's sceen with us in the virtual classroom. \n",
    "    * Consider using Skype on your phone and the screen sharing option\n",
    "    * Consider mirroring your screen with <a href=\"https://www.vysor.io\">Visor</a> or any other free tool\n",
    "* You need to show: 1) your app is working smoothly, and 2) the performance is reasonably good. Evaluate activity recognition performance by showing us statistics on the number of misclassified activies.\n",
    "\n",
    "### Option 2 and Option 3: Progress Review\n",
    "\n",
    "Make sure you can answer the following questions:\n",
    " \n",
    "* What is the goal of your app?\n",
    "* What is the state-of-the-art in the field? Survey methods that provide a solution to the problem. Which approach did you decide to use and why?\n",
    "* Are there data sets you can build on? If not, how do you efficiently gather / annotate / bootstrap your data?\n",
    "* If you already have the first version of a model, how well does it perform? Present a confusion matrix, model performance on test data, etc.\n",
    "* What is the status of your app implementation?\n",
    "\n",
    "<div class=\"alert alert-block alert-info\">\n",
    "Hint: Start adding answers to above questions to your report.\n",
    "</div>"
   ]
  },
  {
   "cell_type": "code",
   "execution_count": null,
   "metadata": {},
   "outputs": [],
   "source": []
  }
 ],
 "metadata": {
  "kernelspec": {
   "display_name": "Python 3",
   "language": "python",
   "name": "python3"
  },
  "language_info": {
   "codemirror_mode": {
    "name": "ipython",
    "version": 3
   },
   "file_extension": ".py",
   "mimetype": "text/x-python",
   "name": "python",
   "nbconvert_exporter": "python",
   "pygments_lexer": "ipython3",
   "version": "3.7.7"
  }
 },
 "nbformat": 4,
 "nbformat_minor": 2
}
