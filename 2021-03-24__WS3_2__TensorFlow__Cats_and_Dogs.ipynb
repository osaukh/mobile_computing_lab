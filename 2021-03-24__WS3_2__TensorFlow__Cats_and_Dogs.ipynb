{
 "cells": [
  {
   "cell_type": "markdown",
   "metadata": {},
   "source": [
    "# 2021-03-24 WS3_2 TensorFlow Cats and Dogs\n"
   ]
  },
  {
   "cell_type": "markdown",
   "metadata": {},
   "source": [
    "In this tutorial you will build an app which classifies camera input steam to detect cats and dogs. We have 25,000 labeled pictures of dogs and cats. The data comes from Kaggle’s Dogs vs Cats challenge. That’s how a bunch of them look like:\n",
    "\n",
    "<img src=\"https://cdn-images-1.medium.com/max/1000/1*sIlE__p4OtMqF30lP7dtwQ.png\" width=\"800\">\n",
    "\n",
    "Each picture can be represented as a 3-dimensional array.\n",
    "\n",
    "<img src=\"https://cdn-images-1.medium.com/max/800/1*9ng9AxixrDUGvVfKA7dypg.png\" width=\"600\">\n",
    "\n",
    "All training images are resized to 50 x 50 pixels, all colors removed and the pictures are turned into grayscale ones.\n",
    "\n",
    "* <a href=\"https://www.youtube.com/watch?v=elycj6T6C9Y&feature=youtu.be\"><b>Video Demo</b></a>\n",
    "* <a href=\"https://www.kaggle.com/c/dogs-vs-cats-redux-kernels-edition/data\"><b>Data</b>: Kaggle's publica dataset</a>\n",
    "* <a href=\"http://androidkt.com/wp-content/uploads/2017/07/trained-model.tar.gz\"><b>Pre-trained Model</b></a>\n",
    "* <a href=\"http://www.subsubroutine.com/sub-subroutine/2016/9/30/cats-and-dogs-and-convolutional-neural-networks\"><b>Model Code and Tutorial</b></a>\n",
    "* <a href=\"https://github.com/Thumar/ImageClassifier\"><b>App Code</b></a>\n",
    "\n",
    "\n",
    "\n",
    "\n",
    "## 1. Building / Training / Testing a Model\n",
    "\n",
    "Tutorial on building / training / testing the model: <a href=\"https://medium.com/@curiousily/tensorflow-for-hackers-part-iii-convolutional-neural-networks-c077618e590b\">Cats and dogs and convolutional neural networks</a>\n",
    "\n",
    "It takes 1min to train the model, but the performance is not very good. I used the model trained for around 5 hours on Google Compute Engine instance with 16 vCPUs. The model achieves accuracy of 98.2% and can distinguish 8 categories of animals: dog, tiger, bear, jaguars, cow, rhinoceros, elephant, cat.\n",
    "\n",
    "Download the <a href=\"http://androidkt.com/wp-content/uploads/2017/07/trained-model.tar.gz\">trained model</a>.\n",
    "\n",
    "\n",
    "## 2. Android App\n",
    "\n",
    "Android <a href=\"https://github.com/Thumar/ImageClassifier\">app source code</a>. You need to copy model files to the assets folder and specify correct paths in MainActivity.java\n",
    "\n",
    "\n",
    "***\n",
    "## Related Examples and Useful Links\n",
    "\n",
    "* <a href=\"http://androidkt.com/image-classify-tensorflow-lite/\">Image Classify Using TensorFlow Lite</a>\n",
    "* <a href=\"https://github.com/MindorksOpenSource/AndroidTensorFlowMachineLearningExample\">Android TensorFlow Machine Learning Example</a> \n",
    "* <a href=\"https://github.com/alseambusher/Paideia\">Another classifier combined with Wikipedia APi to list detailed information about an object</a>\n",
    "* <a href=\"https://github.com/nuaimat/GuessSketch \">Guess a sketch</a>\n",
    "\n",
    "\n",
    "***\n",
    "## Credits\n",
    "* <a href=\"https://medium.com/@curiousily/tensorflow-for-hackers-part-iii-convolutional-neural-networks-c077618e590b\">Building a Cat Detector using Convolutional Neural Networks — TensorFlow for Hackers (Part III)</a>\n",
    "* <a href=\"http://www.subsubroutine.com/sub-subroutine/2016/9/30/cats-and-dogs-and-convolutional-neural-networks\">Cats and dogs and convolutional neural networks</a>"
   ]
  },
  {
   "cell_type": "code",
   "execution_count": null,
   "metadata": {},
   "outputs": [],
   "source": []
  }
 ],
 "metadata": {
  "kernelspec": {
   "display_name": "Python 3",
   "language": "python",
   "name": "python3"
  },
  "language_info": {
   "codemirror_mode": {
    "name": "ipython",
    "version": 3
   },
   "file_extension": ".py",
   "mimetype": "text/x-python",
   "name": "python",
   "nbconvert_exporter": "python",
   "pygments_lexer": "ipython3",
   "version": "3.7.7"
  }
 },
 "nbformat": 4,
 "nbformat_minor": 2
}
