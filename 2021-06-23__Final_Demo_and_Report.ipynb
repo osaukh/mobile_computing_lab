{
 "cells": [
  {
   "cell_type": "markdown",
   "metadata": {},
   "source": [
    "# 2021-06-23 Final Demo and Report\n",
    "\n",
    "<mark>To be updated!</mark>"
   ]
  },
  {
   "cell_type": "markdown",
   "metadata": {},
   "source": [
    "## Demo Instructions\n",
    "\n",
    "<div class=\"alert alert-block alert-success\">\n",
    "<b>If on-site classroom suspension is released,</b> the final demo presentations will take place on <b>Monday, 08.06.2020 at 2pm</b> in person in TECHN. INFORMATIK SÜD (IE01042) at TU Graz, Inffeldgasse 16I. <b>Otherwise,</b> we will use virtual classroom or video recordning (to be decided later).\n",
    "</div>\n",
    " \n",
    "* Please thoroughly test your demos!\n",
    "\n",
    "* A small external committee will be grading your final demos. \n",
    "    * Be prepared to describe your app and why it is cool (no slides required).    \n",
    "    * The committee has background knowledge in mobile computing. \n",
    "    * The committee wants to see that your app works great and you know your algorithms well.\n",
    "    * The committee will ask you questions about your apps. Be prepared to give quantitative estimations of your app performance.\n",
    "\n",
    "* Your final grade is based on the following grading scheme:\n",
    "    * 20 points -- Novelty, your ideas, attention to detail, code clarity\n",
    "    * 20 points -- Short presentation, working app demo, GUI\n",
    "    * 40 points -- App performance results\n",
    "    * 20 points -- Final report (structure, readability)\n",
    "\n",
    "| Points        | Grade              |\n",
    "| ------------- |:------------------:|\n",
    "| $\\geq$ 90     | 1 (excellent)      |\n",
    "| $\\geq$ 78     | 2 (good)           |\n",
    "| $\\geq$ 65     | 3 (satisfactory)   |\n",
    "| $\\geq$ 50     | 4 (sufficient)     |\n",
    "| $<$ 50        | 5 (insufficient)   |\n",
    "\n",
    "* The committee will decide on a few best demos that will be awarded small presents. \n",
    "![alt text](img/intro/android_collectibles.jpg \"Android Collectibles\")\n",
    "\n",
    "<div class=\"alert alert-block alert-info\">\n",
    "In case of on-site classroom suspension the presents will be sent to you per post!\n",
    "</div>\n",
    "\n",
    "\n",
    "\n",
    "## Final Report Instructions\n",
    "\n",
    "<div class=\"alert alert-block alert-success\">\n",
    "The deadline for the final report is on <b>Friday, 12.06.2020 at 23:59:59.</b>\n",
    "</div>\n",
    "\n",
    "* Please send your reports per email (saukh@tugraz.at)\n",
    "* Use paper-style <a href=\"https://www.ieee.org/conferences/publishing/templates.html\">IEEE format</a>, 10pt, two columns, submit as PDF\n",
    "* Your reports to contain the following information:\n",
    "    * App description (What does your app do?) and motivation statement (Why did you decide to go for this idea?)\n",
    "    * Algorithms and models, tricks and twists you used\n",
    "    * Achieved performance / accuracy (please do test your app in different contexts and evaluate its performance)\n",
    "    * Screenshots showing your app in action\n",
    "    * A link to your GitHub / GitLab repository (make sure Olga can access it)\n",
    "    * Description of app limitations (What can be improved? What app extensions are feasible?)\n",
    "\n",
    "* Once Olga receives your report, she will send you your final grade and a short justification.\n",
    "\n",
    "## Concluding Remarks\n",
    "\n",
    "* If you agree, we would like to make photos / videos of your apps in action and share these through the social media channels of our department to promote your work and the course. We will formulate 2 sentences to describe what your app does and add tags to your social media streams / repositories if you wish so. Olga will also add a short description of your app to the <a href=\"http://olgasaukh.com/mcl.html\">MCL page</a>. If you don’t want your work / your pictures be shared this way, please let Olga know. We will only do this if all team members give us their consent!\n",
    "\n",
    "* Please evaluate the course in TUG online. You can also share any suggestions how to improve the course per email. Thank you! We take your feedback seriously.\n",
    "\n",
    "* In WS20/21 Olga will teach the course <a href=\"https://online.tugraz.at/tug_online/wbLv.wbShowLVDetail?pStpSpNr=227914&pSpracheNr=2\">Fault-Tolerant Distributed Algorithms</a> (see a preliminary list of topics from the last year). If interested, I would be more than happy to see you in the course!\n",
    "\n",
    "<div class=\"alert alert-block alert-info\">\n",
    "Thank you for participating in MCL SS'20!\n",
    "</div>"
   ]
  },
  {
   "cell_type": "code",
   "execution_count": null,
   "metadata": {},
   "outputs": [],
   "source": []
  }
 ],
 "metadata": {
  "kernelspec": {
   "display_name": "Python 3",
   "language": "python",
   "name": "python3"
  },
  "language_info": {
   "codemirror_mode": {
    "name": "ipython",
    "version": 3
   },
   "file_extension": ".py",
   "mimetype": "text/x-python",
   "name": "python",
   "nbconvert_exporter": "python",
   "pygments_lexer": "ipython3",
   "version": "3.7.7"
  }
 },
 "nbformat": 4,
 "nbformat_minor": 2
}
