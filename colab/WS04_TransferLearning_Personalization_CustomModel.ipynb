{
  "nbformat": 4,
  "nbformat_minor": 0,
  "metadata": {
    "colab": {
      "name": "WS04--TransferLearning--Personalization--CustomModel.ipynb",
      "provenance": [],
      "collapsed_sections": []
    },
    "kernelspec": {
      "name": "python3",
      "display_name": "Python 3"
    },
    "language_info": {
      "name": "python"
    }
  },
  "cells": [
    {
      "cell_type": "code",
      "execution_count": 2,
      "metadata": {
        "colab": {
          "base_uri": "https://localhost:8080/"
        },
        "id": "XSmXxvjTyv3z",
        "outputId": "0316777b-8dad-4172-a40f-40e0c6f363ba"
      },
      "outputs": [
        {
          "output_type": "stream",
          "name": "stdout",
          "text": [
            "2.8.2\n"
          ]
        }
      ],
      "source": [
        "# tensorflow>=2.7.*\n",
        "import tensorflow as tf\n",
        "print(tf.__version__)"
      ]
    },
    {
      "cell_type": "markdown",
      "source": [
        "Import TensorFlow and Keras:"
      ],
      "metadata": {
        "id": "To-6K-JU3avC"
      }
    },
    {
      "cell_type": "code",
      "source": [
        "import os\n",
        "\n",
        "import numpy as np\n",
        "import tensorflow as tf\n",
        "from tensorflow import keras\n",
        "\n",
        "import datetime\n",
        "\n",
        "import math\n",
        "import numpy as np\n",
        "import random\n",
        "import matplotlib.pyplot as plt\n",
        "plt.style.use('default')\n",
        "\n",
        "random.seed(42)\n",
        "np.random.seed(42)"
      ],
      "metadata": {
        "id": "G_2RJ80f87bf"
      },
      "execution_count": 3,
      "outputs": []
    },
    {
      "cell_type": "markdown",
      "source": [
        "Import FashionMNIST dataset:"
      ],
      "metadata": {
        "id": "tbIuFC823d_l"
      }
    },
    {
      "cell_type": "code",
      "source": [
        "fashion_mnist = keras.datasets.fashion_mnist\n",
        "\n",
        "(train_images, train_labels), (test_images, test_labels) = fashion_mnist.load_data()\n",
        "\n",
        "class_names = ['T-shirt/top', 'Trouser', 'Pullover', 'Dress', 'Coat',\n",
        "               'Sandal', 'Shirt', 'Sneaker', 'Bag', 'Ankle boot']"
      ],
      "metadata": {
        "colab": {
          "base_uri": "https://localhost:8080/"
        },
        "id": "wFD3fTd99BJP",
        "outputId": "81e50fc6-0d0a-4eb3-9553-a3868db8b597"
      },
      "execution_count": 4,
      "outputs": [
        {
          "output_type": "stream",
          "name": "stdout",
          "text": [
            "Downloading data from https://storage.googleapis.com/tensorflow/tf-keras-datasets/train-labels-idx1-ubyte.gz\n",
            "32768/29515 [=================================] - 0s 0us/step\n",
            "40960/29515 [=========================================] - 0s 1us/step\n",
            "Downloading data from https://storage.googleapis.com/tensorflow/tf-keras-datasets/train-images-idx3-ubyte.gz\n",
            "26427392/26421880 [==============================] - 0s 0us/step\n",
            "26435584/26421880 [==============================] - 0s 0us/step\n",
            "Downloading data from https://storage.googleapis.com/tensorflow/tf-keras-datasets/t10k-labels-idx1-ubyte.gz\n",
            "16384/5148 [===============================================================================================] - 0s 0us/step\n",
            "Downloading data from https://storage.googleapis.com/tensorflow/tf-keras-datasets/t10k-images-idx3-ubyte.gz\n",
            "4423680/4422102 [==============================] - 0s 0us/step\n",
            "4431872/4422102 [==============================] - 0s 0us/step\n"
          ]
        }
      ]
    },
    {
      "cell_type": "markdown",
      "source": [
        "Print statistics about the dataset:"
      ],
      "metadata": {
        "id": "O6nNjHc83ju4"
      }
    },
    {
      "cell_type": "code",
      "source": [
        "print(\"Train image shape:\", train_images.shape)\n",
        "print(\"Train labels:\", train_labels)\n",
        "print(\"Test image shape:\", test_images.shape)\n",
        "print(\"Test label shape:\", test_labels.shape)"
      ],
      "metadata": {
        "colab": {
          "base_uri": "https://localhost:8080/"
        },
        "id": "zcXzhuBhCZPj",
        "outputId": "7c4a9402-87f9-455b-d4de-5e6fdc1606d4"
      },
      "execution_count": 5,
      "outputs": [
        {
          "output_type": "stream",
          "name": "stdout",
          "text": [
            "Train image shape: (60000, 28, 28)\n",
            "Train labels: [9 0 0 ... 3 0 5]\n",
            "Test image shape: (10000, 28, 28)\n",
            "Test label shape: (10000,)\n"
          ]
        }
      ]
    },
    {
      "cell_type": "markdown",
      "source": [
        "Print some sample images from the dataset just to know how they look like. Note that in contrast to the original TransferLearning-Personalization example from TensorFlow which works with a pre-trained MobileNetV2 and images with 224x224 resolution, FashionMNIST provides us 28x28 pixel images as below."
      ],
      "metadata": {
        "id": "7NF_yOhh3qTZ"
      }
    },
    {
      "cell_type": "code",
      "source": [
        "plt.figure(figsize=(8,8))\n",
        "for i in range(25):\n",
        "    plt.subplot(5,5,i+1)\n",
        "    plt.xticks([])\n",
        "    plt.yticks([])\n",
        "    plt.grid(False)\n",
        "    plt.imshow(train_images[i], cmap=plt.cm.Blues)\n",
        "    plt.xlabel(class_names[train_labels[i]])\n",
        "plt.show()"
      ],
      "metadata": {
        "colab": {
          "base_uri": "https://localhost:8080/",
          "height": 672
        },
        "id": "mTbVOmDpCdub",
        "outputId": "d16910d3-0e04-4052-97ab-a98dd924e6f0"
      },
      "execution_count": 6,
      "outputs": [
        {
          "output_type": "display_data",
          "data": {
            "text/plain": [
              "<Figure size 800x800 with 25 Axes>"
            ],
            "image/png": "[encoded data removed]"
          },
          "metadata": {}
        }
      ]
    },
    {
      "cell_type": "markdown",
      "source": [
        "Every pixel of an image represents a color intensity value between 0 and 255. We need to normalize these to have values between 0 and 1."
      ],
      "metadata": {
        "id": "Osay3IOC4Y4P"
      }
    },
    {
      "cell_type": "code",
      "source": [
        "train_images = train_images / 255.0\n",
        "test_images = test_images / 255.0"
      ],
      "metadata": {
        "id": "Fawr_VsHCk0r"
      },
      "execution_count": 7,
      "outputs": []
    },
    {
      "cell_type": "markdown",
      "source": [
        "Build a model. Notice that the one but the last layer is given a name \"baselayer\" --> This denotes where our base models ends."
      ],
      "metadata": {
        "id": "XcQcnc5m4oep"
      }
    },
    {
      "cell_type": "code",
      "source": [
        "model = keras.Sequential([\n",
        "  keras.layers.Conv2D(6, (5, 5), padding='same', activation='relu',kernel_initializer='he_uniform', input_shape=(28, 28,1)),\n",
        "  keras.layers.MaxPooling2D(pool_size=(2, 2)),\n",
        "  keras.layers.Conv2D(32, (5, 5), kernel_initializer='he_uniform', activation='relu'),\n",
        "  keras.layers.Dropout(0.1),\n",
        "  keras.layers.MaxPooling2D(pool_size=(2, 2)),\n",
        "  # keras.layers.Dropout(0.1, name=\"baselayer\"),\n",
        "  keras.layers.Dropout(0.1),\n",
        "  keras.layers.Conv2D(120, (5, 5), kernel_initializer='he_uniform', activation='relu'),\n",
        "  keras.layers.Flatten(),\n",
        "  keras.layers.Dense(84, activation='relu', name=\"baselayer\"),\n",
        "  keras.layers.Dense(10, activation=tf.nn.softmax)\n",
        "])"
      ],
      "metadata": {
        "id": "0KVLUv5bCuBc"
      },
      "execution_count": 8,
      "outputs": []
    },
    {
      "cell_type": "markdown",
      "source": [
        "Compile the model and print its summary."
      ],
      "metadata": {
        "id": "qifsW0A_49NP"
      }
    },
    {
      "cell_type": "code",
      "source": [
        "model.compile(optimizer='adam', loss='sparse_categorical_crossentropy', metrics=['accuracy'])\n",
        "\n",
        "model.summary()"
      ],
      "metadata": {
        "colab": {
          "base_uri": "https://localhost:8080/"
        },
        "id": "zXbCpdRtCyoX",
        "outputId": "4c15b223-ab1e-45c7-eec6-18a0b8995caa"
      },
      "execution_count": 9,
      "outputs": [
        {
          "output_type": "stream",
          "name": "stdout",
          "text": [
            "Model: \"sequential\"\n",
            "_________________________________________________________________\n",
            " Layer (type)                Output Shape              Param #   \n",
            "=================================================================\n",
            " conv2d (Conv2D)             (None, 28, 28, 6)         156       \n",
            "                                                                 \n",
            " max_pooling2d (MaxPooling2D  (None, 14, 14, 6)        0         \n",
            " )                                                               \n",
            "                                                                 \n",
            " conv2d_1 (Conv2D)           (None, 10, 10, 32)        4832      \n",
            "                                                                 \n",
            " dropout (Dropout)           (None, 10, 10, 32)        0         \n",
            "                                                                 \n",
            " max_pooling2d_1 (MaxPooling  (None, 5, 5, 32)         0         \n",
            " 2D)                                                             \n",
            "                                                                 \n",
            " dropout_1 (Dropout)         (None, 5, 5, 32)          0         \n",
            "                                                                 \n",
            " conv2d_2 (Conv2D)           (None, 1, 1, 120)         96120     \n",
            "                                                                 \n",
            " flatten (Flatten)           (None, 120)               0         \n",
            "                                                                 \n",
            " baselayer (Dense)           (None, 84)                10164     \n",
            "                                                                 \n",
            " dense (Dense)               (None, 10)                850       \n",
            "                                                                 \n",
            "=================================================================\n",
            "Total params: 112,122\n",
            "Trainable params: 112,122\n",
            "Non-trainable params: 0\n",
            "_________________________________________________________________\n"
          ]
        }
      ]
    },
    {
      "cell_type": "markdown",
      "source": [
        "Train our custom model."
      ],
      "metadata": {
        "id": "l51IXx9SMc2D"
      }
    },
    {
      "cell_type": "code",
      "source": [
        "model.fit(train_images, train_labels, epochs=10, validation_split=0.1, batch_size=32)"
      ],
      "metadata": {
        "colab": {
          "base_uri": "https://localhost:8080/"
        },
        "id": "Nr6KDmcBGts_",
        "outputId": "41059072-1b81-4726-f532-985ff408751e"
      },
      "execution_count": 10,
      "outputs": [
        {
          "output_type": "stream",
          "name": "stdout",
          "text": [
            "Epoch 1/10\n",
            "1688/1688 [==============================] - 65s 37ms/step - loss: 0.4681 - accuracy: 0.8305 - val_loss: 0.3449 - val_accuracy: 0.8792\n",
            "Epoch 2/10\n",
            "1688/1688 [==============================] - 54s 32ms/step - loss: 0.3280 - accuracy: 0.8798 - val_loss: 0.3041 - val_accuracy: 0.8903\n",
            "Epoch 3/10\n",
            "1688/1688 [==============================] - 50s 30ms/step - loss: 0.2838 - accuracy: 0.8958 - val_loss: 0.2913 - val_accuracy: 0.8948\n",
            "Epoch 4/10\n",
            "1688/1688 [==============================] - 48s 28ms/step - loss: 0.2565 - accuracy: 0.9052 - val_loss: 0.2774 - val_accuracy: 0.8973\n",
            "Epoch 5/10\n",
            "1688/1688 [==============================] - 50s 29ms/step - loss: 0.2375 - accuracy: 0.9111 - val_loss: 0.2653 - val_accuracy: 0.9018\n",
            "Epoch 6/10\n",
            "1688/1688 [==============================] - 45s 27ms/step - loss: 0.2190 - accuracy: 0.9189 - val_loss: 0.2513 - val_accuracy: 0.9072\n",
            "Epoch 7/10\n",
            "1688/1688 [==============================] - 45s 27ms/step - loss: 0.2053 - accuracy: 0.9226 - val_loss: 0.2492 - val_accuracy: 0.9065\n",
            "Epoch 8/10\n",
            "1688/1688 [==============================] - 46s 27ms/step - loss: 0.1903 - accuracy: 0.9278 - val_loss: 0.2607 - val_accuracy: 0.8998\n",
            "Epoch 9/10\n",
            "1688/1688 [==============================] - 46s 28ms/step - loss: 0.1814 - accuracy: 0.9314 - val_loss: 0.2489 - val_accuracy: 0.9113\n",
            "Epoch 10/10\n",
            "1688/1688 [==============================] - 47s 28ms/step - loss: 0.1703 - accuracy: 0.9355 - val_loss: 0.2563 - val_accuracy: 0.9103\n"
          ]
        },
        {
          "output_type": "execute_result",
          "data": {
            "text/plain": [
              "<keras.callbacks.History at 0x7f63e5632d90>"
            ]
          },
          "metadata": {},
          "execution_count": 10
        }
      ]
    },
    {
      "cell_type": "markdown",
      "source": [
        "Chop off model's head (everything that follows \"baselayer\") and keep the base. Print summary."
      ],
      "metadata": {
        "id": "KObDQeZwL9bl"
      }
    },
    {
      "cell_type": "code",
      "source": [
        "model2 = tf.keras.models.Model(model.input, model.get_layer('baselayer').output)\n",
        "print(model2.summary())"
      ],
      "metadata": {
        "colab": {
          "base_uri": "https://localhost:8080/"
        },
        "id": "DQAgW4HOMalG",
        "outputId": "2feccb8d-7ed0-4ad7-f17b-82785934934b"
      },
      "execution_count": 11,
      "outputs": [
        {
          "output_type": "stream",
          "name": "stdout",
          "text": [
            "Model: \"model\"\n",
            "_________________________________________________________________\n",
            " Layer (type)                Output Shape              Param #   \n",
            "=================================================================\n",
            " conv2d_input (InputLayer)   [(None, 28, 28, 1)]       0         \n",
            "                                                                 \n",
            " conv2d (Conv2D)             (None, 28, 28, 6)         156       \n",
            "                                                                 \n",
            " max_pooling2d (MaxPooling2D  (None, 14, 14, 6)        0         \n",
            " )                                                               \n",
            "                                                                 \n",
            " conv2d_1 (Conv2D)           (None, 10, 10, 32)        4832      \n",
            "                                                                 \n",
            " dropout (Dropout)           (None, 10, 10, 32)        0         \n",
            "                                                                 \n",
            " max_pooling2d_1 (MaxPooling  (None, 5, 5, 32)         0         \n",
            " 2D)                                                             \n",
            "                                                                 \n",
            " dropout_1 (Dropout)         (None, 5, 5, 32)          0         \n",
            "                                                                 \n",
            " conv2d_2 (Conv2D)           (None, 1, 1, 120)         96120     \n",
            "                                                                 \n",
            " flatten (Flatten)           (None, 120)               0         \n",
            "                                                                 \n",
            " baselayer (Dense)           (None, 84)                10164     \n",
            "                                                                 \n",
            "=================================================================\n",
            "Total params: 111,272\n",
            "Trainable params: 111,272\n",
            "Non-trainable params: 0\n",
            "_________________________________________________________________\n",
            "None\n"
          ]
        }
      ]
    },
    {
      "cell_type": "markdown",
      "source": [
        "A slightly modified example code which uses our custom made model instead of MobileNetV2."
      ],
      "metadata": {
        "id": "uw67R-HaMKzH"
      }
    },
    {
      "cell_type": "code",
      "source": [
        "IMG_SIZE = 28 #224\n",
        "NUM_FEATURES = 84   #7 * 7 * 1280\n",
        "NUM_CLASSES = 4\n",
        "\n",
        "class TransferLearningModel(tf.Module):\n",
        "  \"\"\"TF Transfer Learning model class.\"\"\"\n",
        "\n",
        "  def __init__(self, learning_rate=0.001):\n",
        "    \"\"\"Initializes a transfer learning model instance.\n",
        "\n",
        "    Args:\n",
        "      learning_rate: A learning rate for the optimzer.\n",
        "    \"\"\"\n",
        "    self.num_features = NUM_FEATURES\n",
        "    self.num_classes = NUM_CLASSES\n",
        "\n",
        "    # trainable weights and bias for softmax\n",
        "    self.ws = tf.Variable(\n",
        "        tf.zeros((self.num_features, self.num_classes)),\n",
        "        name='ws',\n",
        "        trainable=True)\n",
        "    self.bs = tf.Variable(\n",
        "        tf.zeros((1, self.num_classes)), name='bs', trainable=True)\n",
        "\n",
        "    # base model\n",
        "    self.base = model2\n",
        "    # loss function and optimizer\n",
        "    self.loss_fn = tf.keras.losses.CategoricalCrossentropy()\n",
        "    self.optimizer = tf.keras.optimizers.Adam(learning_rate=learning_rate)\n",
        "\n",
        "  @tf.function(input_signature=[\n",
        "      tf.TensorSpec([None, IMG_SIZE, IMG_SIZE, 1], tf.float32),\n",
        "  ])\n",
        "  def load(self, feature):\n",
        "    \"\"\"Generates and loads bottleneck features from the given image batch.\n",
        "\n",
        "    Args:\n",
        "      feature: A tensor of image feature batch to generate the bottleneck from.\n",
        "\n",
        "    Returns:\n",
        "      Map of the bottleneck.\n",
        "    \"\"\"\n",
        "    # x = tf.keras.applications.mobilenet_v2.preprocess_input(tf.multiply(feature, 255))\n",
        "    bottleneck = tf.reshape(self.base(feature, training=False), (-1, self.num_features))\n",
        "    return {'bottleneck': bottleneck}\n",
        "\n",
        "  @tf.function(input_signature=[\n",
        "      tf.TensorSpec([None, NUM_FEATURES], tf.float32),\n",
        "      tf.TensorSpec([None, NUM_CLASSES], tf.float32),\n",
        "  ])\n",
        "  def train(self, bottleneck, label):\n",
        "    \"\"\"Runs one training step with the given bottleneck features and labels.\n",
        "\n",
        "    Args:\n",
        "      bottleneck: A tensor of bottleneck features generated from the base model.\n",
        "      label: A tensor of class labels for the given batch.\n",
        "\n",
        "    Returns:\n",
        "      Map of the training loss.\n",
        "    \"\"\"\n",
        "    with tf.GradientTape() as tape:\n",
        "      logits = tf.matmul(bottleneck, self.ws) + self.bs\n",
        "      prediction = tf.nn.softmax(logits)\n",
        "      loss = self.loss_fn(prediction, label)\n",
        "    gradients = tape.gradient(loss, [self.ws, self.bs])\n",
        "    self.optimizer.apply_gradients(zip(gradients, [self.ws, self.bs]))\n",
        "    result = {'loss': loss}\n",
        "    for grad in gradients:\n",
        "      result[grad.name] = grad\n",
        "    return result\n",
        "\n",
        "  @tf.function(input_signature=[\n",
        "      tf.TensorSpec([None, IMG_SIZE, IMG_SIZE, 1], tf.float32)\n",
        "  ])\n",
        "  def infer(self, feature):\n",
        "    \"\"\"Invokes an inference on the given feature.\n",
        "\n",
        "    Args:\n",
        "      feature: A tensor of image feature batch to invoke an inference on.\n",
        "\n",
        "    Returns:\n",
        "      Map of the softmax output.\n",
        "    \"\"\"\n",
        "    # x = tf.keras.applications.mobilenet_v2.preprocess_input(tf.multiply(feature, 255))\n",
        "    bottleneck = tf.reshape(self.base(feature, training=False), (-1, self.num_features))\n",
        "    logits = tf.matmul(bottleneck, self.ws) + self.bs\n",
        "    return {'output': tf.nn.softmax(logits)}\n",
        "\n",
        "  @tf.function(input_signature=[\n",
        "      tf.TensorSpec(shape=[], dtype=tf.string)\n",
        "  ])\n",
        "  def save(self, checkpoint_path):\n",
        "    \"\"\"Saves the trainable weights to the given checkpoint file.\n",
        "\n",
        "    Args:\n",
        "      checkpoint_path: A file path to save the model.\n",
        "\n",
        "    Returns:\n",
        "      Map of the checkpoint file path.\n",
        "    \"\"\"\n",
        "    tensor_names = [self.ws.name, self.bs.name]\n",
        "    tensors_to_save = [self.ws.read_value(), self.bs.read_value()]\n",
        "    tf.raw_ops.Save(\n",
        "        filename=checkpoint_path,\n",
        "        tensor_names=tensor_names,\n",
        "        data=tensors_to_save,\n",
        "        name='save')\n",
        "    return {'checkpoint_path': checkpoint_path}\n",
        "\n",
        "  @tf.function(input_signature=[\n",
        "      tf.TensorSpec(shape=[], dtype=tf.string)\n",
        "  ])\n",
        "  def restore(self, checkpoint_path):\n",
        "    \"\"\"Restores the serialized trainable weights from the given checkpoint file.\n",
        "\n",
        "    Args:\n",
        "      checkpoint_path: A path to a saved checkpoint file.\n",
        "\n",
        "    Returns:\n",
        "      Map of restored weight and bias.\n",
        "    \"\"\"\n",
        "    restored_tensors = {}\n",
        "    restored = tf.raw_ops.Restore(\n",
        "        file_pattern=checkpoint_path,\n",
        "        tensor_name=self.ws.name,\n",
        "        dt=np.float32,\n",
        "        name='restore')\n",
        "    self.ws.assign(restored)\n",
        "    restored_tensors['ws'] = restored\n",
        "    restored = tf.raw_ops.Restore(\n",
        "        file_pattern=checkpoint_path,\n",
        "        tensor_name=self.bs.name,\n",
        "        dt=np.float32,\n",
        "        name='restore')\n",
        "    self.bs.assign(restored)\n",
        "    restored_tensors['bs'] = restored\n",
        "    return restored_tensors\n",
        "\n",
        "  @tf.function(input_signature=[])\n",
        "  def initialize_weights(self):\n",
        "    \"\"\"Initializes the weights and bias of the head model.\n",
        "\n",
        "    Returns:\n",
        "      Map of initialized weight and bias.\n",
        "    \"\"\"\n",
        "    self.ws.assign(tf.random.uniform((self.num_features, self.num_classes)))\n",
        "    self.bs.assign(tf.random.uniform((1, self.num_classes)))\n",
        "    return {'ws': self.ws, 'bs': self.bs}\n",
        "\n",
        "\n",
        "def convert_and_save(saved_model_dir='saved_model'):\n",
        "  \"\"\"Converts and saves the TFLite Transfer Learning model.\n",
        "\n",
        "  Args:\n",
        "    saved_model_dir: A directory path to save a converted model.\n",
        "  \"\"\"\n",
        "  tl_model = TransferLearningModel()\n",
        "\n",
        "  tf.saved_model.save(\n",
        "      tl_model,\n",
        "      saved_model_dir,\n",
        "      signatures={\n",
        "          'load': tl_model.load.get_concrete_function(),\n",
        "          'train': tl_model.train.get_concrete_function(),\n",
        "          'infer': tl_model.infer.get_concrete_function(),\n",
        "          'save': tl_model.save.get_concrete_function(),\n",
        "          'restore': tl_model.restore.get_concrete_function(),\n",
        "          'initialize': tl_model.initialize_weights.get_concrete_function(),\n",
        "      })\n",
        "\n",
        "  # Convert the model\n",
        "  converter = tf.lite.TFLiteConverter.from_saved_model(saved_model_dir)\n",
        "  converter.target_spec.supported_ops = [\n",
        "      tf.lite.OpsSet.TFLITE_BUILTINS,  # enable TensorFlow Lite ops.\n",
        "      tf.lite.OpsSet.SELECT_TF_OPS  # enable TensorFlow ops.\n",
        "  ]\n",
        "  converter.experimental_enable_resource_variables = True\n",
        "  tflite_model = converter.convert()\n",
        "\n",
        "  model_file_path = os.path.join('model.tflite')\n",
        "  with open(model_file_path, 'wb') as model_file:\n",
        "    model_file.write(tflite_model)\n",
        "\n",
        "\n",
        "if __name__ == '__main__':\n",
        "  convert_and_save()\n"
      ],
      "metadata": {
        "colab": {
          "base_uri": "https://localhost:8080/"
        },
        "id": "vKL2AbFny6To",
        "outputId": "2b9c41ae-6eae-4cd6-d275-2daa0399f794"
      },
      "execution_count": 12,
      "outputs": [
        {
          "output_type": "stream",
          "name": "stdout",
          "text": [
            "INFO:tensorflow:Assets written to: saved_model/assets\n"
          ]
        },
        {
          "output_type": "stream",
          "name": "stderr",
          "text": [
            "WARNING:absl:Importing a function (__inference_internal_grad_fn_77974) with ops with unsaved custom gradients. Will likely fail if a gradient is requested.\n",
            "WARNING:absl:Importing a function (__inference_internal_grad_fn_77958) with ops with unsaved custom gradients. Will likely fail if a gradient is requested.\n",
            "WARNING:absl:Buffer deduplication procedure will be skipped when flatbuffer library is not properly loaded\n"
          ]
        }
      ]
    },
    {
      "cell_type": "markdown",
      "source": [
        "The model is temporary stored in your session. You now need to copy it to your local drive and put it inside the project to `ModelPersonalization/app/src/main/assets/model/`. \n",
        "\n",
        "The new model works with a different resolution of input images (28x28 instead of 224x224), expect black-and-white images, no colors (so, each image is 28x28x1 instead of 224x224x3), has only 84 features as output from the base model (instead of 1280?). Therefore, we need a few minor modifications in the Java app to make it work with the new model.\n",
        "\n",
        "In `java/org/tensorflow/lite/examples/transfer/CameraFragment.java`:\n",
        "```\n",
        "float[][][] normalizedRgb = new float[modelImageSize][modelImageSize][1];\n",
        "...\n",
        "//        normalizedRgb[y][x][0] = r;\n",
        "//        normalizedRgb[y][x][1] = g;\n",
        "//        normalizedRgb[y][x][2] = b;\n",
        "        normalizedRgb[y][x][0] = (r+b+g) / 3.f;\n",
        "```\n",
        "\n",
        "In `java/org/tensorflow/lite/examples/transfer/TransferLearningModelWrapper.java`:\n",
        "```\n",
        "public static final int IMAGE_SIZE = 28;\n",
        "```\n",
        "\n",
        "In `transfer_api/src/main/java/org/tensorflow/lite/examples/transfer/api/LiteMultipleSignatureModel.java`:\n",
        "```\n",
        "private static final int BOTTLENECK_SIZE = 84;\n",
        "```\n",
        "\n",
        "That's it! Recompile your app and run it on your device. Notice that training takes a bit longer than with MobileNetV2, the loss reduces but doesn't necessarily go down to 0 and the accuracy is a bit lower. This is because the model we trained is smaller and simpler. \n"
      ],
      "metadata": {
        "id": "bGofLxOIMhPG"
      }
    }
  ]
}