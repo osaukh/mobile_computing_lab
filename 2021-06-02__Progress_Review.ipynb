{
 "cells": [
  {
   "cell_type": "markdown",
   "metadata": {},
   "source": [
    "# 2021-06-02 Progress Review\n",
    "\n",
    "<mark>To be updated!</mark>"
   ]
  },
  {
   "cell_type": "markdown",
   "metadata": {},
   "source": [
    "<div class=\"alert alert-block alert-success\">\n",
    "Participation in progress reviews is mandatory. The review will take place in the virtual classroom at 2pm.\n",
    "</div>\n",
    "\n",
    "## Where Are We?\n",
    "\n",
    "<img src=\"img/project_options4.png\" width=\"800\">\n",
    "\n",
    "### All Options: Progress Review\n",
    "\n",
    "Make sure you have answer the following questions:\n",
    " \n",
    "* What is the goal of your app?\n",
    "* What is the state-of-the-art in the field? Survey methods that provide a solution to the problem. Which approach did you decide to use and why?\n",
    "* What data sets are you bulding on? How do you efficiently gather / annotate / bootstrap your data?\n",
    "* How well does your model perform? Present a confusion matrix, model performance on test data, etc.\n",
    "* What is the status of your app implementation?\n",
    "* Are you well on track?\n",
    "* How do you plan to show your final demo?\n",
    "\n",
    "<div class=\"alert alert-block alert-info\">\n",
    "Hint: Start adding answers to above questions to your report.\n",
    "</div>"
   ]
  },
  {
   "cell_type": "code",
   "execution_count": null,
   "metadata": {},
   "outputs": [],
   "source": []
  }
 ],
 "metadata": {
  "kernelspec": {
   "display_name": "Python 3",
   "language": "python",
   "name": "python3"
  },
  "language_info": {
   "codemirror_mode": {
    "name": "ipython",
    "version": 3
   },
   "file_extension": ".py",
   "mimetype": "text/x-python",
   "name": "python",
   "nbconvert_exporter": "python",
   "pygments_lexer": "ipython3",
   "version": "3.7.7"
  }
 },
 "nbformat": 4,
 "nbformat_minor": 2
}
