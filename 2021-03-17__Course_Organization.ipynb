{
 "cells": [
  {
   "cell_type": "markdown",
   "metadata": {
    "slideshow": {
     "slide_type": "slide"
    }
   },
   "source": [
    "# 2021-03-17 Course Organization"
   ]
  },
  {
   "cell_type": "markdown",
   "metadata": {
    "slideshow": {
     "slide_type": "slide"
    }
   },
   "source": [
    "## Basic Information\n",
    " \n",
    "* TUG Online: [Mobile Computing Lab (MCL), SS'21](https://online.tugraz.at/tug_online/pl/ui/$ctx/wbLv.wbShowLVDetail?pStpSpNr=236527)\n",
    "* Instructor: [Olga Saukh](http://www.olgasaukh.com) ([TUG business card](https://online.tugraz.at/tug_online/visitenkarte.show_vcard?pPersonenGruppe=3&pPersonenId=BC91EB43629EBA38\"))\n",
    "* Teaching assistant: Peter Prodinger (peter.prodinger at student.tugraz.at)\n",
    "* MCL materials and instructions are online: [Course materials on GitHub](https://github.com/osaukh/mobile_computing_lab)\n",
    "\n",
    "<div class=\"alert alert-block alert-success\">\n",
    "MCL starts on <b>Wed, 17.03.2020 at 3pm</b> over Webex. Access details can be found under \"Announcements\" in the TeachCenter and were sent per email.\n",
    "</div>\n",
    "\n",
    "<div class=\"alert alert-block alert-success\">\n",
    "Please join the <b>MCL Slack channel</b> to connect to other students enrolled in the class. Access details can be found under \"Announcements\" in the TeachCenter and were sent per email.\n",
    "</div>"
   ]
  },
  {
   "cell_type": "markdown",
   "metadata": {
    "slideshow": {
     "slide_type": "slide"
    }
   },
   "source": [
    "## Content\n",
    "\n",
    "The course provides an introduction to the current research trends in the area of mobile computing. The course will be based on a programming project, where students will form groups of 1-2 students to develop a smartphone app for Android (iOS is also fine). There is no disadvantage of implementing a project alone! \n",
    "\n",
    "To program a smartphone app, a developer needs to be familiar with:\n",
    "1. sensors and signals a smartphone can gather,\n",
    "2. data science and machine learning tools necessary to process sensor data, and\n",
    "3. how to run sensor data processing algorithms and models on a smartphone.\n",
    "\n",
    "This course will provide a solid background for the above points. During the workshops we will look into the state-of-the-art in this emerging field. We will look into a few technologies and papers to understand how algorithms, signal processing, and machine learning tools are used to develop some exciting applications. The students will then use these basic tools to develop their own apps.\n",
    "    \n",
    "<img src=\"img/intro/course_content.png\" width=\"800\">"
   ]
  },
  {
   "cell_type": "markdown",
   "metadata": {
    "slideshow": {
     "slide_type": "slide"
    }
   },
   "source": [
    "## Workshops\n",
    "\n",
    "Workshops will help you to get started with the topics:\n",
    "* [Workshop 1 -- Sensors and signals: Android, sensors, activity recognition](2021-03-17__WS1_0__Sensors_and_Signals.ipynb)\n",
    "* [Workshop 2 -- Speech processing in mobile applications](2021-03-24__WS2_0__Speech_Processing.ipynb)\n",
    "* [Workshop 3 -- TensorFlow Lite: Machine learning on mobile devices](2021-03-24__WS3_0__TensorFlow.ipynb)\n",
    "* [Workshop 4 -- Activity monitoring and transfer learning](2021-04-28__WS4_0__Transfer_Learning.ipynb)\n",
    "\n",
    "<div class=\"alert alert-block alert-success\">\n",
    "Workshops / discussions / progress reviews / demos: <b>3-5pm on every scheduled occasion</b> in WebEx. Code troubleshooting: use <b>Slack for asking questions</b>. Last resort: send an email to Peter (peter.prodinger at student.tugraz.at) or Olga (saukh at tugraz.at) and schedule a separate appointment.\n",
    "</div>"
   ]
  },
  {
   "cell_type": "markdown",
   "metadata": {
    "slideshow": {
     "slide_type": "slide"
    }
   },
   "source": [
    "## Schedule\n",
    "\n",
    "<img src=\"img/intro/schedule.png\" width=\"900\">\n",
    "\n",
    "<img src=\"img/intro/schedule2.png\" width=\"800\">"
   ]
  },
  {
   "cell_type": "markdown",
   "metadata": {
    "slideshow": {
     "slide_type": "slide"
    }
   },
   "source": [
    "## Prerequisites\n",
    "\n",
    "The course is for new and experienced developers who already have Java programming experience and now want to learn how to build powerful Android apps.\n",
    "\n",
    "## Teams\n",
    "\n",
    "* You will develop Android projects in groups of 1-2 students.\n",
    "* Make sure each group owns at least one smartphone running Android (or iOS and a MacBook). __If you have no Android phone contact Olga__.\n",
    "\n",
    "<div class=\"alert alert-block alert-success\">\n",
    "In SS'21 due to COVID-19 the students are strongly encouraged to work on their projects independently. If you do decide to team up with someone, please consider remote collaboration tools and split the workload reasonably.\n",
    "</div>"
   ]
  },
  {
   "cell_type": "markdown",
   "metadata": {},
   "source": [
    "## Project Options\n",
    "\n",
    "The course is based on a programming project. Two options are available:\n",
    "\n",
    "#### Option 1: Activity monitoring and tranfer learning\n",
    "The project is for beginners and consists of two parts: First, you will read sensor data provided by your phone (e.g., acceleration values) and use different algorithms (e.g., kNN) to detect the type of activity (e.g., jogging, walking, sitting, standing) you are currently doing. In the second part of the project, you will have to change the location of your phone (e.g., hold it in your hand instead of in your pocket) and use transfer learning to adjust the model quickly on your device.\n",
    "    \n",
    "<img src=\"img/sensors/project_option_1_acceleration_data.png\" width=\"600\">\n",
    "    \n",
    "Expected path:\n",
    "   * Week 1-3: Activity monitoring (e.g., based on kNN)\n",
    "   * Week 4-7: Transfer learning\n",
    "   * Week 8: GUI\n",
    "   * Week 9: Polish your code, measure performance, write final report\n",
    "   * Week 10: Demonstration and report"
   ]
  },
  {
   "cell_type": "markdown",
   "metadata": {
    "slideshow": {
     "slide_type": "slide"
    }
   },
   "source": [
    "#### Option 2: Free project choice (the topic needs Olga's approval)\n",
    "\n",
    "The project must involve sensors and non-trivial data processing on a mobile phone. Before you suggest a free choice project, please read related literature on the topic including scientific publications.\n",
    "\n",
    "<img src=\"img/intro/project_option_3.png\" width=\"800\">\n",
    "    \n",
    "Expected path:\n",
    "   * Week 1: Define your project (read furiously) and agree with Olga\n",
    "   * Week 2: Pitch (problem statement, proposed solution, data)\n",
    "   * Week 2-7: Your own project\n",
    "   * Week 8: GUI\n",
    "   * Week 9: Polish, evaluate, write report\n",
    "   * Week 10: Demonstrations/Presentations\n",
    "\n",
    "<div class=\"alert alert-block alert-info\">\n",
    "Check example <a href=\"http://www.olgasaukh.com/mcl.html\">MCL projects sucessfully completed in 2018-2019</a>.\n",
    "</div>"
   ]
  },
  {
   "cell_type": "markdown",
   "metadata": {},
   "source": [
    "#### Ideas for speech recognition\n",
    "\n",
    "Perform speech processing __locally and in real time on your smartphone__. You may choose to detect and assess the following acoustic events:\n",
    "   1. Word counting (see: <a href=\"https://www.researchgate.net/publication/263272600_A_Speech_System_for_Estimating_Daily_Word_Counts\">A Speech System for Estimating Daily Word Counts</a>, INTERSPEECH 2014)\n",
    "   2. Filler word detection (e.g., ehm, ahm, like, basically, eh, ah, see: <a href=\"https://www.youtube.com/watch?v=MNrD-6W3GkI\">English Filler Words</a>)\n",
    "   3. Detecting speaker's mood in different blocks of a talk (see <a href=\"https://zenodo.org/record/1188976#.Xm5acS3Mz_Q\">RAVDESS data set</a>)\n",
    "\n",
    "#### Ideas for image processing\n",
    "\n",
    "You can build on existing pre-trained models for object detection broadly available online. Some potentially interesting directions to think about:\n",
    "   1. Deriving social distance from camera images: [Machine learning could check if you’re social distancing properly at work](https://www.technologyreview.com/2020/04/17/1000092/ai-machine-learning-watches-social-distancing-at-work)\n",
    "   2. \n",
    "   \n",
    "#### Where to start looking for own project ideas?\n",
    "Scientific papers:\n",
    "   * In Google scholar (<a href=\"http://scholar.google.com\">scholar.google.com</a>) type \"smartphone TOPIC\".\n",
    "   * The following conferences have some cool papers in the area: Mobisys, Mobicom, Sensys, IPSN, Percom, Ubicomp. In Google, type: \"CONFERENCE_NAME YEAR\", for example: “Mobisys 2020”, then go to the “Program” tab in that webpage.  \n",
    "   * To expand on an area that you find interesting, follow the citations in papers (past) and the links that cite these papers (future).\n",
    "\n",
    "Apps:\n",
    "   * Reverse engineer an app that you like. \n",
    "   * Think of new apps. For example: real-time pub monitoring in Graz, real-time room reservation and tracking, monitor biking paths, social distance measurements with UWB or BLE, etc."
   ]
  },
  {
   "cell_type": "markdown",
   "metadata": {
    "slideshow": {
     "slide_type": "slide"
    }
   },
   "source": [
    "## Tools\n",
    "\n",
    "### GitHub, GitLab, Google Colab\n",
    "* Version control your code on <a href=\"https://github.com\">GitHub</a> or <a href=\"https://about.gitlab.com\">GitLab</a>. \n",
    "* Git tutorials: <a href=\"https://guides.github.com\">GitHub Guides</a>, <a href=\"https://education.github.com/git-cheat-sheet-education.pdf\">Git Cheat Sheet</a>, Oreilly's Book <a href=\"https://www.foo.be/cours/dess-20122013/b/OReilly%20Version%20Control%20with%20GIT.pdf\">\"Version Control with Git\"</a>, game: <a href=\"https://learngitbranching.js.org\">Learn Git Branching</a>.\n",
    "* [Google Colab](https://colab.research.google.com) to run iPython notebooks and collaborate on the code. Will be used later in this course.\n",
    "\n",
    "### Assistance\n",
    "* Olga is available in the virtual classroom 3-5pm every scheduled appointment.\n",
    "* Peter (peter.prodinger at student.tugraz.at) will help you to fix coding issues. Approach him on Slack or email him if you need help.\n",
    "* It's easier to help if you use GitHub / GitLab / Google Colab and we can access your code!\n",
    "\n",
    "### Hints\n",
    "* Learning mobile development is not difficult, but do not underestimate the required time and effort!\n",
    "* Do not wait until the last minute to start working on the project!\n",
    "\n",
    "<div class=\"alert alert-block alert-info\">\n",
    "<b>Previous years' statistics</b>: Activity recognition app takes a team of 2 people (with some Android programming experience) 4 days to complete (full time). Transfer learning will probably take the same team 7 days to complete (full time).\n",
    "</div>"
   ]
  },
  {
   "cell_type": "markdown",
   "metadata": {
    "slideshow": {
     "slide_type": "slide"
    }
   },
   "source": [
    "## Progress / Demos / Reports \n",
    "* Intermediate progress meetings are there to make sure you are well on track. See instructions:\n",
    "    * <a href=\"2021-05-05__Progress_Review.ipynb\">2021-05-05 Progress Review</a> \n",
    "    * <a href=\"2021-06-02__Progress_Review.ipynb\">2021-06-02 Progress Review</a>\n",
    "* At the end of the course you will be asked to \n",
    "    1. Submit your report as PDF\n",
    "    2. Share with Olga the link to your GitHub / GitLab repository\n",
    "    3. Present and demonstrate your app in action\n",
    "* See <a href=\"2021-06-23__Final_Demo_and_Report.ipynb\">2021-06-23 Final Demo and Report</a>"
   ]
  },
  {
   "cell_type": "markdown",
   "metadata": {
    "slideshow": {
     "slide_type": "slide"
    }
   },
   "source": [
    "## Grading\n",
    "Your final grade is based on the following grading scheme:\n",
    "* 20 points -- Novelty, your ideas, attention to detail, code clarity\n",
    "* 60 points -- Working demo and quality of the obtained performance results\n",
    "* 20 points -- Quality of the report (structure, readability)\n",
    "\n",
    "<table>\n",
    "    <thead><tr><th>Points</th><th>Grade</th></tr></thead>\n",
    "    <tbody>\n",
    "    <tr><td>$\\geq$ 90</td><td>1 (excellent)</td></tr>\n",
    "    <tr><td>$\\geq$ 78</td><td>2 (good)</td></tr>\n",
    "    <tr><td>$\\geq$ 65</td><td>3 (satisfactory)</td></tr>\n",
    "    <tr><td>$\\geq$ 50</td><td>4 (sufficient)</td></tr>\n",
    "    <tr><td>$<$ 50</td><td>5 (insufficient)</td></tr>\n",
    "    </tbody>\n",
    "</table>\n",
    "\n",
    "* There will be presents for the best projects!\n",
    "![alt text](img/intro/android_collectibles.jpg \"Android Collectibles\")\n",
    "\n",
    "<div class=\"alert alert-block alert-info\">\n",
    "In case of on-site classroom suspension the presents will be sent to you per post!\n",
    "</div>"
   ]
  },
  {
   "cell_type": "markdown",
   "metadata": {
    "slideshow": {
     "slide_type": "slide"
    }
   },
   "source": [
    "***\n",
    "## Why Mobile App Development?"
   ]
  },
  {
   "cell_type": "markdown",
   "metadata": {
    "slideshow": {
     "slide_type": "slide"
    }
   },
   "source": [
    "### 1. Mobile app development and machine learning are among the hottest skills\n",
    "\n",
    "Mobile development, TensorFlow, Python and deep learning are on the list of the hottest technical skills for 2020. For example, see <a href=\"https://www.technojobs.co.uk/info/career-advice/top-10-it-skills-and-tech-skills-for-2020.phtml\">Top 10 IT Skills and Tech Skills for 2020</a> and <a href=\"https://www.udemy.com/blog/the-10-hottest-technical-skills-in-2020/\">The 10 Hottest Technical Skills in 2020</a>.\n",
    "\n",
    "<img src=\"img/intro/huawei_mobileai.png\" width=\"800\">\n",
    "\n",
    "Source of the screenshot: [AI for Telecommunication Networks // Merouane Debbah, HUAWEI TECHNOLOGIES](https://www.youtube.com/watch?v=KwLB2Ewg_-A)"
   ]
  },
  {
   "cell_type": "markdown",
   "metadata": {
    "slideshow": {
     "slide_type": "slide"
    }
   },
   "source": [
    "### 2. Over 50% of the world's population have cell phones\n",
    "\n",
    "With the increasing use of mobile from gaming to shopping, mobile development skills are in high demand. The global mobile population amounted to 4 billion unique users, this is more than half of the world’s population that uses a mobile. The use of mobile continues to grow and increase, so it might be a good time to invest in developing some skills in mobile. The main mobile skills are Android and iOS mobile developer skills.\n",
    "\n",
    "<img src=\"https://qz.com/wp-content/uploads/2014/02/mobile-phones-022414.jpg?quality=80&strip=all&w=940\" width=\"600\">\n",
    "\n",
    "References:\n",
    "* <a href=\"http://qz.com/179897/more-people-around-the-world-have-cell-phones-than-ever-had-land-lines/\">More people around the world have cell phones than ever had land-lines</a>.\n",
    "* <a href=\"http://www.emarketer.com/Article/2-Billion-Consumers-Worldwide-Smartphones-by-2016/1011694\">Two billion consumers worldwide to get smartphones by 2016.\n",
    "Over half of mobile phone users globally will have smartphones in 2018</a>."
   ]
  },
  {
   "cell_type": "markdown",
   "metadata": {
    "slideshow": {
     "slide_type": "slide"
    }
   },
   "source": [
    "### 3. High data growth rates give rise to edge computing\n",
    "\n",
    "For the first time in history we have plenty of computing and sensing capabilities.\n",
    "\n",
    "<img src=\"img/intro/computation_and_sensing.png\" width=\"600\">\n",
    "\n",
    "However, every two years we create more data than we've created in all of history. Our ambitions are growing faster than our computers can improve. \n",
    "\n",
    "\"To manage data you need a lot of power; to extract insights into action you need a lot of computational power. Current architectures are just simply not sustainable.” – Antonio Neri, President and CEO, Hewlett Packard Enterprise. World Economic Forum Annual Meeting in Davos, January 2018.\n",
    "\n",
    "<img src=\"img/intro/computation_and_data.png\" width=\"600\">\n",
    "\n",
    "Source: <a href=\"https://www.weforum.org/agenda/2018/09/end-of-an-era-what-computing-will-look-like-after-moores-law/\">Data curve from IDC/EMC Digital Universe reports 2008-2017, Compute curve HPE analysis</a>\n",
    "\n",
    "There is an __exponential increase of new data__ and an __exponential decrease in the time we can afford to go from sensing to acting__. The amount of information we record doubles every two years. The vast majority of this information is recorded in traditional data centres today, but as data continues to double that will change dramatically. The percentage of enterprise data that will never be in a data centre may rise from 10% today to more than 70% within five years. Seven out of 10 bytes could be captured, analysed and acted upon without leaving the “intelligent edge”.\n",
    "\n",
    "<img src=\"img/intro/cloud_and_edge.png\" width=\"600\">\n",
    "\n",
    "Although rich resources and high bandwidth make the cloud attractive to run public services, many private, personalized and real-time applications are better off when the models driving them run on mobile and embedded devices. __Edge computing__ allows for more secure and efficient data processing in real time, achieving better performance and results. While cloud computing operates on big data, edge computing operates on __instant data__, that is real-time data generated by sensors and users. It brings computation and data storage closer to the location where it is needed to improve response times and save bandwidth. The increase in mobile and IoT devices at the edge of the network is producing a massive amount of data to be communicated to data centers and, thus, pushes the network’s bandwidth requirements to the limit. Despite the improvements of network technology, cloud services cannot guarantee acceptable response times, which is a critical requirement for many applications. The goal of edge computing is therefore to move the computation away from data centers towards the edge of the network exploiting embedded devices, mobile phones or network gateways to perform tasks and provide services on behalf of the cloud.\n",
    "\n",
    "Source and further read: <a href=\"https://www.weforum.org/agenda/2018/09/end-of-an-era-what-computing-will-look-like-after-moores-law/\">A new era of computing is coming. How can we make sure it is sustainable?</a>"
   ]
  },
  {
   "cell_type": "markdown",
   "metadata": {
    "slideshow": {
     "slide_type": "slide"
    }
   },
   "source": [
    "***\n",
    "# Your Task: Choose a Project Option\n",
    "\n",
    "\n",
    "1. Do you have a smartphone? If no, ask Olga to help. Consider teaming up with someone. Use Slack to approach other students.\n",
    "2. __Before 23.03.2021__: send Olga your team member names, their student IDs and the project option you want to implement. If you decide to go for option 2, also send a short description of the problem you want to solve and your approach.\n",
    "\n",
    "<img src=\"img/project_options1.png\" width=\"800\">\n",
    "\n",
    "<div class=\"alert alert-block alert-info\">\n",
    "<b>Code sharing</b>: Build on top of what is there, but cite it in your report. By all means share knowledge and pointers amongst yourselves but give credit to your (peer) source in your report.\n",
    "</div>"
   ]
  },
  {
   "cell_type": "markdown",
   "metadata": {
    "slideshow": {
     "slide_type": "slide"
    }
   },
   "source": [
    "***\n",
    "# Q&A\n",
    "* May I use __Kotlin__ to build my app?\n",
    "   * Yes, go ahead! :-) Here is a good <a href=\"https://kotlinlang.org/docs/tutorials/kotlin-android.html\">Kotlin tutorial for Android</a>. \n",
    "   * Many tutorials referenced in this course provide both Java and Kotlin code snippets.\n",
    "* May I use __React Native__ to build my app?\n",
    "   * Yes, but please be aware of both its advantages and disadvantages. For example, read: <a href=\"https://rubygarage.org/blog/react-native-for-mobile-app-development\">When to Choose React Native for Building a Mobile App and When to Avoid It</a> and similar articles.\n",
    "* May I use __Flutter__ to build my app?\n",
    "   * Yes, but it uses the Dart programming language which is not very popular at the moment.\n",
    "   \n",
    "Happy coding!"
   ]
  },
  {
   "cell_type": "markdown",
   "metadata": {
    "slideshow": {
     "slide_type": "slide"
    }
   },
   "source": [
    "***\n",
    "# Credits\n",
    "\n",
    "* Marco Zuniga's <a href=\"http://studiegids.tudelft.nl/a101_displayCourse.do?course_id=40368\">\"Smart Phone Sensing\" Course at TU Delft</a>"
   ]
  },
  {
   "cell_type": "code",
   "execution_count": null,
   "metadata": {
    "slideshow": {
     "slide_type": "slide"
    }
   },
   "outputs": [],
   "source": []
  }
 ],
 "metadata": {
  "kernelspec": {
   "display_name": "Python 3",
   "language": "python",
   "name": "python3"
  },
  "language_info": {
   "codemirror_mode": {
    "name": "ipython",
    "version": 3
   },
   "file_extension": ".py",
   "mimetype": "text/x-python",
   "name": "python",
   "nbconvert_exporter": "python",
   "pygments_lexer": "ipython3",
   "version": "3.7.7"
  }
 },
 "nbformat": 4,
 "nbformat_minor": 2
}
